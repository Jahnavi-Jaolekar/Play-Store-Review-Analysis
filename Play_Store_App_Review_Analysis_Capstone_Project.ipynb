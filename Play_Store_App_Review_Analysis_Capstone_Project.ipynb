{
  "nbformat": 4,
  "nbformat_minor": 0,
  "metadata": {
    "kernelspec": {
      "display_name": "Python 3",
      "language": "python",
      "name": "python3"
    },
    "language_info": {
      "codemirror_mode": {
        "name": "ipython",
        "version": 3
      },
      "file_extension": ".py",
      "mimetype": "text/x-python",
      "name": "python",
      "nbconvert_exporter": "python",
      "pygments_lexer": "ipython3",
      "version": "3.6.6"
    },
    "colab": {
      "provenance": [],
      "collapsed_sections": [],
      "include_colab_link": true
    }
  },
  "cells": [
    {
      "cell_type": "markdown",
      "metadata": {
        "id": "view-in-github",
        "colab_type": "text"
      },
      "source": [
        "<a href=\"https://colab.research.google.com/github/Jahnavi-Jaolekar/Play-Store-Review-Analysis/blob/main/Play_Store_App_Review_Analysis_Capstone_Project.ipynb\" target=\"_parent\"><img src=\"https://colab.research.google.com/assets/colab-badge.svg\" alt=\"Open In Colab\"/></a>"
      ]
    },
    {
      "cell_type": "markdown",
      "metadata": {
        "id": "Y06xIdG26kRF"
      },
      "source": [
        "# <b> Problem Statement<b>\n",
        "## <b>The Play Store apps data has enormous potential to drive app-making businesses to success. Actionable insights can be drawn for developers to work on and capture the Android market. </b>\n",
        "\n",
        "## <b> Each app (row) has values for catergory, rating, size, and more. Another dataset contains customer reviews of the android apps.</b>\n",
        "\n",
        "## <b> Explore and analyze the data to discover key factors responsible for app engagement and success. </b>"
      ]
    },
    {
      "cell_type": "markdown",
      "source": [
        "![Google-Play-Store.jpg](data:image/jpeg;base64,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)"
      ],
      "metadata": {
        "id": "jFAlbZ6ksZgF"
      }
    },
    {
      "cell_type": "code",
      "source": [
        "Title_of_the_project= \"abc\""
      ],
      "metadata": {
        "id": "oAG9LvJRXj-x"
      },
      "execution_count": null,
      "outputs": []
    },
    {
      "cell_type": "code",
      "metadata": {
        "id": "dByMsuzT8Tnw"
      },
      "source": [
        "# Importing necessary libraries required\n",
        "import numpy as np\n",
        "import pandas as pd\n",
        "import matplotlib.pyplot as plt\n",
        "import seaborn as sns\n",
        "%matplotlib inline\n"
      ],
      "execution_count": null,
      "outputs": []
    },
    {
      "cell_type": "markdown",
      "source": [
        "## **Let's mount our data**"
      ],
      "metadata": {
        "id": "vn8iCuKwhaJw"
      }
    },
    {
      "cell_type": "code",
      "source": [
        "from google.colab import drive\n",
        "drive.mount('/content/drive')"
      ],
      "metadata": {
        "colab": {
          "base_uri": "https://localhost:8080/"
        },
        "id": "2izyo4fDhcUm",
        "outputId": "bcbb6ffb-61b4-4048-db30-6ea50e7101b1"
      },
      "execution_count": null,
      "outputs": [
        {
          "output_type": "stream",
          "name": "stdout",
          "text": [
            "Mounted at /content/drive\n"
          ]
        }
      ]
    },
    {
      "cell_type": "code",
      "source": [
        "# Store the data in a variable and view it\n",
        "data1='/content/drive/MyDrive/capstone project/Copy of Play Store Data.csv'\n",
        "data2='/content/drive/MyDrive/capstone project/Copy of User Reviews.csv'\n",
        "play_store = pd.read_csv(data1)\n",
        "user_review = pd.read_csv(data2)\n",
        "play_store.head()\n",
        "user_review.head()"
      ],
      "metadata": {
        "colab": {
          "base_uri": "https://localhost:8080/",
          "height": 206
        },
        "id": "xwzMxFErhdFo",
        "outputId": "3591c9b1-7f95-4b27-ef84-99f4117b7539"
      },
      "execution_count": 23,
      "outputs": [
        {
          "output_type": "execute_result",
          "data": {
            "text/plain": [
              "                     App                                  Translated_Review  \\\n",
              "0  10 Best Foods for You  I like eat delicious food. That's I'm cooking ...   \n",
              "1  10 Best Foods for You    This help eating healthy exercise regular basis   \n",
              "2  10 Best Foods for You                                                NaN   \n",
              "3  10 Best Foods for You         Works great especially going grocery store   \n",
              "4  10 Best Foods for You                                       Best idea us   \n",
              "\n",
              "  Sentiment  Sentiment_Polarity  Sentiment_Subjectivity  \n",
              "0  Positive                1.00                0.533333  \n",
              "1  Positive                0.25                0.288462  \n",
              "2       NaN                 NaN                     NaN  \n",
              "3  Positive                0.40                0.875000  \n",
              "4  Positive                1.00                0.300000  "
            ],
            "text/html": [
              "\n",
              "  <div id=\"df-2f2d38d4-21fa-4e69-b133-7071ddab66c5\">\n",
              "    <div class=\"colab-df-container\">\n",
              "      <div>\n",
              "<style scoped>\n",
              "    .dataframe tbody tr th:only-of-type {\n",
              "        vertical-align: middle;\n",
              "    }\n",
              "\n",
              "    .dataframe tbody tr th {\n",
              "        vertical-align: top;\n",
              "    }\n",
              "\n",
              "    .dataframe thead th {\n",
              "        text-align: right;\n",
              "    }\n",
              "</style>\n",
              "<table border=\"1\" class=\"dataframe\">\n",
              "  <thead>\n",
              "    <tr style=\"text-align: right;\">\n",
              "      <th></th>\n",
              "      <th>App</th>\n",
              "      <th>Translated_Review</th>\n",
              "      <th>Sentiment</th>\n",
              "      <th>Sentiment_Polarity</th>\n",
              "      <th>Sentiment_Subjectivity</th>\n",
              "    </tr>\n",
              "  </thead>\n",
              "  <tbody>\n",
              "    <tr>\n",
              "      <th>0</th>\n",
              "      <td>10 Best Foods for You</td>\n",
              "      <td>I like eat delicious food. That's I'm cooking ...</td>\n",
              "      <td>Positive</td>\n",
              "      <td>1.00</td>\n",
              "      <td>0.533333</td>\n",
              "    </tr>\n",
              "    <tr>\n",
              "      <th>1</th>\n",
              "      <td>10 Best Foods for You</td>\n",
              "      <td>This help eating healthy exercise regular basis</td>\n",
              "      <td>Positive</td>\n",
              "      <td>0.25</td>\n",
              "      <td>0.288462</td>\n",
              "    </tr>\n",
              "    <tr>\n",
              "      <th>2</th>\n",
              "      <td>10 Best Foods for You</td>\n",
              "      <td>NaN</td>\n",
              "      <td>NaN</td>\n",
              "      <td>NaN</td>\n",
              "      <td>NaN</td>\n",
              "    </tr>\n",
              "    <tr>\n",
              "      <th>3</th>\n",
              "      <td>10 Best Foods for You</td>\n",
              "      <td>Works great especially going grocery store</td>\n",
              "      <td>Positive</td>\n",
              "      <td>0.40</td>\n",
              "      <td>0.875000</td>\n",
              "    </tr>\n",
              "    <tr>\n",
              "      <th>4</th>\n",
              "      <td>10 Best Foods for You</td>\n",
              "      <td>Best idea us</td>\n",
              "      <td>Positive</td>\n",
              "      <td>1.00</td>\n",
              "      <td>0.300000</td>\n",
              "    </tr>\n",
              "  </tbody>\n",
              "</table>\n",
              "</div>\n",
              "      <button class=\"colab-df-convert\" onclick=\"convertToInteractive('df-2f2d38d4-21fa-4e69-b133-7071ddab66c5')\"\n",
              "              title=\"Convert this dataframe to an interactive table.\"\n",
              "              style=\"display:none;\">\n",
              "        \n",
              "  <svg xmlns=\"http://www.w3.org/2000/svg\" height=\"24px\"viewBox=\"0 0 24 24\"\n",
              "       width=\"24px\">\n",
              "    <path d=\"M0 0h24v24H0V0z\" fill=\"none\"/>\n",
              "    <path d=\"M18.56 5.44l.94 2.06.94-2.06 2.06-.94-2.06-.94-.94-2.06-.94 2.06-2.06.94zm-11 1L8.5 8.5l.94-2.06 2.06-.94-2.06-.94L8.5 2.5l-.94 2.06-2.06.94zm10 10l.94 2.06.94-2.06 2.06-.94-2.06-.94-.94-2.06-.94 2.06-2.06.94z\"/><path d=\"M17.41 7.96l-1.37-1.37c-.4-.4-.92-.59-1.43-.59-.52 0-1.04.2-1.43.59L10.3 9.45l-7.72 7.72c-.78.78-.78 2.05 0 2.83L4 21.41c.39.39.9.59 1.41.59.51 0 1.02-.2 1.41-.59l7.78-7.78 2.81-2.81c.8-.78.8-2.07 0-2.86zM5.41 20L4 18.59l7.72-7.72 1.47 1.35L5.41 20z\"/>\n",
              "  </svg>\n",
              "      </button>\n",
              "      \n",
              "  <style>\n",
              "    .colab-df-container {\n",
              "      display:flex;\n",
              "      flex-wrap:wrap;\n",
              "      gap: 12px;\n",
              "    }\n",
              "\n",
              "    .colab-df-convert {\n",
              "      background-color: #E8F0FE;\n",
              "      border: none;\n",
              "      border-radius: 50%;\n",
              "      cursor: pointer;\n",
              "      display: none;\n",
              "      fill: #1967D2;\n",
              "      height: 32px;\n",
              "      padding: 0 0 0 0;\n",
              "      width: 32px;\n",
              "    }\n",
              "\n",
              "    .colab-df-convert:hover {\n",
              "      background-color: #E2EBFA;\n",
              "      box-shadow: 0px 1px 2px rgba(60, 64, 67, 0.3), 0px 1px 3px 1px rgba(60, 64, 67, 0.15);\n",
              "      fill: #174EA6;\n",
              "    }\n",
              "\n",
              "    [theme=dark] .colab-df-convert {\n",
              "      background-color: #3B4455;\n",
              "      fill: #D2E3FC;\n",
              "    }\n",
              "\n",
              "    [theme=dark] .colab-df-convert:hover {\n",
              "      background-color: #434B5C;\n",
              "      box-shadow: 0px 1px 3px 1px rgba(0, 0, 0, 0.15);\n",
              "      filter: drop-shadow(0px 1px 2px rgba(0, 0, 0, 0.3));\n",
              "      fill: #FFFFFF;\n",
              "    }\n",
              "  </style>\n",
              "\n",
              "      <script>\n",
              "        const buttonEl =\n",
              "          document.querySelector('#df-2f2d38d4-21fa-4e69-b133-7071ddab66c5 button.colab-df-convert');\n",
              "        buttonEl.style.display =\n",
              "          google.colab.kernel.accessAllowed ? 'block' : 'none';\n",
              "\n",
              "        async function convertToInteractive(key) {\n",
              "          const element = document.querySelector('#df-2f2d38d4-21fa-4e69-b133-7071ddab66c5');\n",
              "          const dataTable =\n",
              "            await google.colab.kernel.invokeFunction('convertToInteractive',\n",
              "                                                     [key], {});\n",
              "          if (!dataTable) return;\n",
              "\n",
              "          const docLinkHtml = 'Like what you see? Visit the ' +\n",
              "            '<a target=\"_blank\" href=https://colab.research.google.com/notebooks/data_table.ipynb>data table notebook</a>'\n",
              "            + ' to learn more about interactive tables.';\n",
              "          element.innerHTML = '';\n",
              "          dataTable['output_type'] = 'display_data';\n",
              "          await google.colab.output.renderOutput(dataTable, element);\n",
              "          const docLink = document.createElement('div');\n",
              "          docLink.innerHTML = docLinkHtml;\n",
              "          element.appendChild(docLink);\n",
              "        }\n",
              "      </script>\n",
              "    </div>\n",
              "  </div>\n",
              "  "
            ]
          },
          "metadata": {},
          "execution_count": 23
        }
      ]
    },
    {
      "cell_type": "markdown",
      "source": [
        "## **Determining number of rows and columns of play store data**"
      ],
      "metadata": {
        "id": "Oa0NmLKXZlR9"
      }
    },
    {
      "cell_type": "code",
      "source": [
        "# Determining the shape of play store data\n",
        "print(f'number of rows:{play_store.shape[0]}')\n",
        "print(f'number of columns:{play_store.shape[1]}')"
      ],
      "metadata": {
        "id": "Jm42oO29iLL_",
        "colab": {
          "base_uri": "https://localhost:8080/"
        },
        "outputId": "87e587f6-70ef-4a6c-a6e0-34991c691d4d"
      },
      "execution_count": null,
      "outputs": [
        {
          "output_type": "stream",
          "name": "stdout",
          "text": [
            "number of rows:10841\n",
            "number of columns:13\n"
          ]
        }
      ]
    },
    {
      "cell_type": "markdown",
      "source": [
        "## **determining number of rows and columns of user review data**"
      ],
      "metadata": {
        "id": "SJFtiNeFRAm-"
      }
    },
    {
      "cell_type": "code",
      "source": [
        "# Determining the shape of user review  data\n",
        "print(f'number of rows:{user_review.shape[0]}')\n",
        "print(f'number of columns:{user_review.shape[1]}')"
      ],
      "metadata": {
        "colab": {
          "base_uri": "https://localhost:8080/"
        },
        "id": "FMO85yqNRYq_",
        "outputId": "1a47a88a-8ab3-4985-ff93-882926f8cdb8"
      },
      "execution_count": 24,
      "outputs": [
        {
          "output_type": "stream",
          "name": "stdout",
          "text": [
            "number of rows:64295\n",
            "number of columns:5\n"
          ]
        }
      ]
    },
    {
      "cell_type": "markdown",
      "source": [
        "## **Let's just dig into the data a bit more!!**\n"
      ],
      "metadata": {
        "id": "3xaJ_eSWvAbx"
      }
    },
    {
      "cell_type": "code",
      "source": [
        "# Columns is an attribute that returns column labels, which helps to understand which column contains what type of information.\n",
        "play_store.columns"
      ],
      "metadata": {
        "colab": {
          "base_uri": "https://localhost:8080/"
        },
        "id": "xipKgbQHu92D",
        "outputId": "9cb6b47d-d956-4cb8-ddef-a59dd6558b9a"
      },
      "execution_count": null,
      "outputs": [
        {
          "output_type": "execute_result",
          "data": {
            "text/plain": [
              "Index(['App', 'Category', 'Rating', 'Reviews', 'Size', 'Installs', 'Type',\n",
              "       'Price', 'Content Rating', 'Genres', 'Last Updated', 'Current Ver',\n",
              "       'Android Ver'],\n",
              "      dtype='object')"
            ]
          },
          "metadata": {},
          "execution_count": 5
        }
      ]
    },
    {
      "cell_type": "code",
      "source": [
        "# similarly we will be finding out column labels for user review data as well .\n",
        "user_review.columns"
      ],
      "metadata": {
        "colab": {
          "base_uri": "https://localhost:8080/"
        },
        "id": "AzLFeTmOR59X",
        "outputId": "83418e94-478a-4766-d94b-3b1afa11a20f"
      },
      "execution_count": 25,
      "outputs": [
        {
          "output_type": "execute_result",
          "data": {
            "text/plain": [
              "Index(['App', 'Translated_Review', 'Sentiment', 'Sentiment_Polarity',\n",
              "       'Sentiment_Subjectivity'],\n",
              "      dtype='object')"
            ]
          },
          "metadata": {},
          "execution_count": 25
        }
      ]
    },
    {
      "cell_type": "code",
      "source": [
        "user_review.isnull().sum()"
      ],
      "metadata": {
        "colab": {
          "base_uri": "https://localhost:8080/"
        },
        "id": "rts14CcXSjwM",
        "outputId": "ef0ac499-c2c2-469f-cfb2-1d852e52f4e5"
      },
      "execution_count": 26,
      "outputs": [
        {
          "output_type": "execute_result",
          "data": {
            "text/plain": [
              "App                           0\n",
              "Translated_Review         26868\n",
              "Sentiment                 26863\n",
              "Sentiment_Polarity        26863\n",
              "Sentiment_Subjectivity    26863\n",
              "dtype: int64"
            ]
          },
          "metadata": {},
          "execution_count": 26
        }
      ]
    },
    {
      "cell_type": "code",
      "source": [
        "# Defining a function to to determine number of null values,unique values and data type of all values\n",
        "def give_info():\n",
        "  extra_info = pd.DataFrame(index=play_store.columns)\n",
        "  extra_info['data_type'] = play_store.dtypes\n",
        "  extra_info['null_count'] = play_store.isnull().sum()\n",
        "  extra_info['unique_count'] = play_store.nunique()\n",
        "  return extra_info\n",
        "  "
      ],
      "metadata": {
        "id": "zUnGzR3fctDs"
      },
      "execution_count": null,
      "outputs": []
    },
    {
      "cell_type": "code",
      "source": [
        "give_info()"
      ],
      "metadata": {
        "colab": {
          "base_uri": "https://localhost:8080/",
          "height": 457
        },
        "id": "LPdzlxQJLYGR",
        "outputId": "30ad2bfe-2edd-4d89-844c-d33627589a54"
      },
      "execution_count": null,
      "outputs": [
        {
          "output_type": "execute_result",
          "data": {
            "text/plain": [
              "               data_type  null_count  unique_count\n",
              "App               object           0          9660\n",
              "Category          object           0            34\n",
              "Rating           float64        1474            40\n",
              "Reviews           object           0          6002\n",
              "Size              object           0           462\n",
              "Installs          object           0            22\n",
              "Type              object           1             3\n",
              "Price             object           0            93\n",
              "Content Rating    object           1             6\n",
              "Genres            object           0           120\n",
              "Last Updated      object           0          1378\n",
              "Current Ver       object           8          2832\n",
              "Android Ver       object           3            33"
            ],
            "text/html": [
              "\n",
              "  <div id=\"df-19483727-7434-41dd-8e83-ec2ff59295f9\">\n",
              "    <div class=\"colab-df-container\">\n",
              "      <div>\n",
              "<style scoped>\n",
              "    .dataframe tbody tr th:only-of-type {\n",
              "        vertical-align: middle;\n",
              "    }\n",
              "\n",
              "    .dataframe tbody tr th {\n",
              "        vertical-align: top;\n",
              "    }\n",
              "\n",
              "    .dataframe thead th {\n",
              "        text-align: right;\n",
              "    }\n",
              "</style>\n",
              "<table border=\"1\" class=\"dataframe\">\n",
              "  <thead>\n",
              "    <tr style=\"text-align: right;\">\n",
              "      <th></th>\n",
              "      <th>data_type</th>\n",
              "      <th>null_count</th>\n",
              "      <th>unique_count</th>\n",
              "    </tr>\n",
              "  </thead>\n",
              "  <tbody>\n",
              "    <tr>\n",
              "      <th>App</th>\n",
              "      <td>object</td>\n",
              "      <td>0</td>\n",
              "      <td>9660</td>\n",
              "    </tr>\n",
              "    <tr>\n",
              "      <th>Category</th>\n",
              "      <td>object</td>\n",
              "      <td>0</td>\n",
              "      <td>34</td>\n",
              "    </tr>\n",
              "    <tr>\n",
              "      <th>Rating</th>\n",
              "      <td>float64</td>\n",
              "      <td>1474</td>\n",
              "      <td>40</td>\n",
              "    </tr>\n",
              "    <tr>\n",
              "      <th>Reviews</th>\n",
              "      <td>object</td>\n",
              "      <td>0</td>\n",
              "      <td>6002</td>\n",
              "    </tr>\n",
              "    <tr>\n",
              "      <th>Size</th>\n",
              "      <td>object</td>\n",
              "      <td>0</td>\n",
              "      <td>462</td>\n",
              "    </tr>\n",
              "    <tr>\n",
              "      <th>Installs</th>\n",
              "      <td>object</td>\n",
              "      <td>0</td>\n",
              "      <td>22</td>\n",
              "    </tr>\n",
              "    <tr>\n",
              "      <th>Type</th>\n",
              "      <td>object</td>\n",
              "      <td>1</td>\n",
              "      <td>3</td>\n",
              "    </tr>\n",
              "    <tr>\n",
              "      <th>Price</th>\n",
              "      <td>object</td>\n",
              "      <td>0</td>\n",
              "      <td>93</td>\n",
              "    </tr>\n",
              "    <tr>\n",
              "      <th>Content Rating</th>\n",
              "      <td>object</td>\n",
              "      <td>1</td>\n",
              "      <td>6</td>\n",
              "    </tr>\n",
              "    <tr>\n",
              "      <th>Genres</th>\n",
              "      <td>object</td>\n",
              "      <td>0</td>\n",
              "      <td>120</td>\n",
              "    </tr>\n",
              "    <tr>\n",
              "      <th>Last Updated</th>\n",
              "      <td>object</td>\n",
              "      <td>0</td>\n",
              "      <td>1378</td>\n",
              "    </tr>\n",
              "    <tr>\n",
              "      <th>Current Ver</th>\n",
              "      <td>object</td>\n",
              "      <td>8</td>\n",
              "      <td>2832</td>\n",
              "    </tr>\n",
              "    <tr>\n",
              "      <th>Android Ver</th>\n",
              "      <td>object</td>\n",
              "      <td>3</td>\n",
              "      <td>33</td>\n",
              "    </tr>\n",
              "  </tbody>\n",
              "</table>\n",
              "</div>\n",
              "      <button class=\"colab-df-convert\" onclick=\"convertToInteractive('df-19483727-7434-41dd-8e83-ec2ff59295f9')\"\n",
              "              title=\"Convert this dataframe to an interactive table.\"\n",
              "              style=\"display:none;\">\n",
              "        \n",
              "  <svg xmlns=\"http://www.w3.org/2000/svg\" height=\"24px\"viewBox=\"0 0 24 24\"\n",
              "       width=\"24px\">\n",
              "    <path d=\"M0 0h24v24H0V0z\" fill=\"none\"/>\n",
              "    <path d=\"M18.56 5.44l.94 2.06.94-2.06 2.06-.94-2.06-.94-.94-2.06-.94 2.06-2.06.94zm-11 1L8.5 8.5l.94-2.06 2.06-.94-2.06-.94L8.5 2.5l-.94 2.06-2.06.94zm10 10l.94 2.06.94-2.06 2.06-.94-2.06-.94-.94-2.06-.94 2.06-2.06.94z\"/><path d=\"M17.41 7.96l-1.37-1.37c-.4-.4-.92-.59-1.43-.59-.52 0-1.04.2-1.43.59L10.3 9.45l-7.72 7.72c-.78.78-.78 2.05 0 2.83L4 21.41c.39.39.9.59 1.41.59.51 0 1.02-.2 1.41-.59l7.78-7.78 2.81-2.81c.8-.78.8-2.07 0-2.86zM5.41 20L4 18.59l7.72-7.72 1.47 1.35L5.41 20z\"/>\n",
              "  </svg>\n",
              "      </button>\n",
              "      \n",
              "  <style>\n",
              "    .colab-df-container {\n",
              "      display:flex;\n",
              "      flex-wrap:wrap;\n",
              "      gap: 12px;\n",
              "    }\n",
              "\n",
              "    .colab-df-convert {\n",
              "      background-color: #E8F0FE;\n",
              "      border: none;\n",
              "      border-radius: 50%;\n",
              "      cursor: pointer;\n",
              "      display: none;\n",
              "      fill: #1967D2;\n",
              "      height: 32px;\n",
              "      padding: 0 0 0 0;\n",
              "      width: 32px;\n",
              "    }\n",
              "\n",
              "    .colab-df-convert:hover {\n",
              "      background-color: #E2EBFA;\n",
              "      box-shadow: 0px 1px 2px rgba(60, 64, 67, 0.3), 0px 1px 3px 1px rgba(60, 64, 67, 0.15);\n",
              "      fill: #174EA6;\n",
              "    }\n",
              "\n",
              "    [theme=dark] .colab-df-convert {\n",
              "      background-color: #3B4455;\n",
              "      fill: #D2E3FC;\n",
              "    }\n",
              "\n",
              "    [theme=dark] .colab-df-convert:hover {\n",
              "      background-color: #434B5C;\n",
              "      box-shadow: 0px 1px 3px 1px rgba(0, 0, 0, 0.15);\n",
              "      filter: drop-shadow(0px 1px 2px rgba(0, 0, 0, 0.3));\n",
              "      fill: #FFFFFF;\n",
              "    }\n",
              "  </style>\n",
              "\n",
              "      <script>\n",
              "        const buttonEl =\n",
              "          document.querySelector('#df-19483727-7434-41dd-8e83-ec2ff59295f9 button.colab-df-convert');\n",
              "        buttonEl.style.display =\n",
              "          google.colab.kernel.accessAllowed ? 'block' : 'none';\n",
              "\n",
              "        async function convertToInteractive(key) {\n",
              "          const element = document.querySelector('#df-19483727-7434-41dd-8e83-ec2ff59295f9');\n",
              "          const dataTable =\n",
              "            await google.colab.kernel.invokeFunction('convertToInteractive',\n",
              "                                                     [key], {});\n",
              "          if (!dataTable) return;\n",
              "\n",
              "          const docLinkHtml = 'Like what you see? Visit the ' +\n",
              "            '<a target=\"_blank\" href=https://colab.research.google.com/notebooks/data_table.ipynb>data table notebook</a>'\n",
              "            + ' to learn more about interactive tables.';\n",
              "          element.innerHTML = '';\n",
              "          dataTable['output_type'] = 'display_data';\n",
              "          await google.colab.output.renderOutput(dataTable, element);\n",
              "          const docLink = document.createElement('div');\n",
              "          docLink.innerHTML = docLinkHtml;\n",
              "          element.appendChild(docLink);\n",
              "        }\n",
              "      </script>\n",
              "    </div>\n",
              "  </div>\n",
              "  "
            ]
          },
          "metadata": {},
          "execution_count": 7
        }
      ]
    },
    {
      "cell_type": "markdown",
      "source": [
        "\n",
        "\n",
        "\n",
        "\n",
        "\n",
        "\n",
        "*   This shows that this data contains 1474 null values in rating column, current ver has 8, android ver has 3, content rating and type each have 1 null value.\n",
        "*   Only rating has numeric values in the form of floats.\n",
        "\n",
        "\n",
        "\n"
      ],
      "metadata": {
        "id": "c8O0hx3UfvHQ"
      }
    },
    {
      "cell_type": "code",
      "source": [
        "# Defining a function to to determine number of null values,unique values and data type of all values for user review data.\n",
        "def return_info():\n",
        "  more_info = pd.DataFrame(index=user_review.columns)\n",
        "  more_info['data_type'] = user_review.dtypes\n",
        "  more_info['null_count'] = user_review.isnull().sum()\n",
        "  more_info['unique_count'] = user_review.nunique()\n",
        "  return more_info"
      ],
      "metadata": {
        "id": "BxN9K_SkTLim"
      },
      "execution_count": 27,
      "outputs": []
    },
    {
      "cell_type": "code",
      "source": [
        "return_info()"
      ],
      "metadata": {
        "colab": {
          "base_uri": "https://localhost:8080/",
          "height": 206
        },
        "id": "r2Nt5ARNT81b",
        "outputId": "11775cbd-22dd-4244-83b5-c0eab3bf50d5"
      },
      "execution_count": 28,
      "outputs": [
        {
          "output_type": "execute_result",
          "data": {
            "text/plain": [
              "                       data_type  null_count  unique_count\n",
              "App                       object           0          1074\n",
              "Translated_Review         object       26868         27994\n",
              "Sentiment                 object       26863             3\n",
              "Sentiment_Polarity       float64       26863          5410\n",
              "Sentiment_Subjectivity   float64       26863          4474"
            ],
            "text/html": [
              "\n",
              "  <div id=\"df-3dcc43f2-39b3-4d2a-a0bc-8e4f35417fe4\">\n",
              "    <div class=\"colab-df-container\">\n",
              "      <div>\n",
              "<style scoped>\n",
              "    .dataframe tbody tr th:only-of-type {\n",
              "        vertical-align: middle;\n",
              "    }\n",
              "\n",
              "    .dataframe tbody tr th {\n",
              "        vertical-align: top;\n",
              "    }\n",
              "\n",
              "    .dataframe thead th {\n",
              "        text-align: right;\n",
              "    }\n",
              "</style>\n",
              "<table border=\"1\" class=\"dataframe\">\n",
              "  <thead>\n",
              "    <tr style=\"text-align: right;\">\n",
              "      <th></th>\n",
              "      <th>data_type</th>\n",
              "      <th>null_count</th>\n",
              "      <th>unique_count</th>\n",
              "    </tr>\n",
              "  </thead>\n",
              "  <tbody>\n",
              "    <tr>\n",
              "      <th>App</th>\n",
              "      <td>object</td>\n",
              "      <td>0</td>\n",
              "      <td>1074</td>\n",
              "    </tr>\n",
              "    <tr>\n",
              "      <th>Translated_Review</th>\n",
              "      <td>object</td>\n",
              "      <td>26868</td>\n",
              "      <td>27994</td>\n",
              "    </tr>\n",
              "    <tr>\n",
              "      <th>Sentiment</th>\n",
              "      <td>object</td>\n",
              "      <td>26863</td>\n",
              "      <td>3</td>\n",
              "    </tr>\n",
              "    <tr>\n",
              "      <th>Sentiment_Polarity</th>\n",
              "      <td>float64</td>\n",
              "      <td>26863</td>\n",
              "      <td>5410</td>\n",
              "    </tr>\n",
              "    <tr>\n",
              "      <th>Sentiment_Subjectivity</th>\n",
              "      <td>float64</td>\n",
              "      <td>26863</td>\n",
              "      <td>4474</td>\n",
              "    </tr>\n",
              "  </tbody>\n",
              "</table>\n",
              "</div>\n",
              "      <button class=\"colab-df-convert\" onclick=\"convertToInteractive('df-3dcc43f2-39b3-4d2a-a0bc-8e4f35417fe4')\"\n",
              "              title=\"Convert this dataframe to an interactive table.\"\n",
              "              style=\"display:none;\">\n",
              "        \n",
              "  <svg xmlns=\"http://www.w3.org/2000/svg\" height=\"24px\"viewBox=\"0 0 24 24\"\n",
              "       width=\"24px\">\n",
              "    <path d=\"M0 0h24v24H0V0z\" fill=\"none\"/>\n",
              "    <path d=\"M18.56 5.44l.94 2.06.94-2.06 2.06-.94-2.06-.94-.94-2.06-.94 2.06-2.06.94zm-11 1L8.5 8.5l.94-2.06 2.06-.94-2.06-.94L8.5 2.5l-.94 2.06-2.06.94zm10 10l.94 2.06.94-2.06 2.06-.94-2.06-.94-.94-2.06-.94 2.06-2.06.94z\"/><path d=\"M17.41 7.96l-1.37-1.37c-.4-.4-.92-.59-1.43-.59-.52 0-1.04.2-1.43.59L10.3 9.45l-7.72 7.72c-.78.78-.78 2.05 0 2.83L4 21.41c.39.39.9.59 1.41.59.51 0 1.02-.2 1.41-.59l7.78-7.78 2.81-2.81c.8-.78.8-2.07 0-2.86zM5.41 20L4 18.59l7.72-7.72 1.47 1.35L5.41 20z\"/>\n",
              "  </svg>\n",
              "      </button>\n",
              "      \n",
              "  <style>\n",
              "    .colab-df-container {\n",
              "      display:flex;\n",
              "      flex-wrap:wrap;\n",
              "      gap: 12px;\n",
              "    }\n",
              "\n",
              "    .colab-df-convert {\n",
              "      background-color: #E8F0FE;\n",
              "      border: none;\n",
              "      border-radius: 50%;\n",
              "      cursor: pointer;\n",
              "      display: none;\n",
              "      fill: #1967D2;\n",
              "      height: 32px;\n",
              "      padding: 0 0 0 0;\n",
              "      width: 32px;\n",
              "    }\n",
              "\n",
              "    .colab-df-convert:hover {\n",
              "      background-color: #E2EBFA;\n",
              "      box-shadow: 0px 1px 2px rgba(60, 64, 67, 0.3), 0px 1px 3px 1px rgba(60, 64, 67, 0.15);\n",
              "      fill: #174EA6;\n",
              "    }\n",
              "\n",
              "    [theme=dark] .colab-df-convert {\n",
              "      background-color: #3B4455;\n",
              "      fill: #D2E3FC;\n",
              "    }\n",
              "\n",
              "    [theme=dark] .colab-df-convert:hover {\n",
              "      background-color: #434B5C;\n",
              "      box-shadow: 0px 1px 3px 1px rgba(0, 0, 0, 0.15);\n",
              "      filter: drop-shadow(0px 1px 2px rgba(0, 0, 0, 0.3));\n",
              "      fill: #FFFFFF;\n",
              "    }\n",
              "  </style>\n",
              "\n",
              "      <script>\n",
              "        const buttonEl =\n",
              "          document.querySelector('#df-3dcc43f2-39b3-4d2a-a0bc-8e4f35417fe4 button.colab-df-convert');\n",
              "        buttonEl.style.display =\n",
              "          google.colab.kernel.accessAllowed ? 'block' : 'none';\n",
              "\n",
              "        async function convertToInteractive(key) {\n",
              "          const element = document.querySelector('#df-3dcc43f2-39b3-4d2a-a0bc-8e4f35417fe4');\n",
              "          const dataTable =\n",
              "            await google.colab.kernel.invokeFunction('convertToInteractive',\n",
              "                                                     [key], {});\n",
              "          if (!dataTable) return;\n",
              "\n",
              "          const docLinkHtml = 'Like what you see? Visit the ' +\n",
              "            '<a target=\"_blank\" href=https://colab.research.google.com/notebooks/data_table.ipynb>data table notebook</a>'\n",
              "            + ' to learn more about interactive tables.';\n",
              "          element.innerHTML = '';\n",
              "          dataTable['output_type'] = 'display_data';\n",
              "          await google.colab.output.renderOutput(dataTable, element);\n",
              "          const docLink = document.createElement('div');\n",
              "          docLink.innerHTML = docLinkHtml;\n",
              "          element.appendChild(docLink);\n",
              "        }\n",
              "      </script>\n",
              "    </div>\n",
              "  </div>\n",
              "  "
            ]
          },
          "metadata": {},
          "execution_count": 28
        }
      ]
    },
    {
      "cell_type": "markdown",
      "source": [
        "# **Dealing with null values in play store data**"
      ],
      "metadata": {
        "id": "O8OpXbC_xjWD"
      }
    },
    {
      "cell_type": "code",
      "source": [
        "def impute_median(series):\n",
        "  return series.fillna(series.median)"
      ],
      "metadata": {
        "id": "CLpR86DdwMMM"
      },
      "execution_count": null,
      "outputs": []
    },
    {
      "cell_type": "code",
      "source": [
        "# Replacing null values in rating column with median of all values present in that column\n",
        "play_store.Rating=play_store['Rating'].transform(impute_median)"
      ],
      "metadata": {
        "id": "l6Fi4I9my0Fs"
      },
      "execution_count": null,
      "outputs": []
    },
    {
      "cell_type": "code",
      "source": [
        "# Removing/droping the row containg null value for the column content rating\n",
        "play_store[play_store['Content Rating'].isna()]\n",
        "play_store.drop([10472],inplace=True)"
      ],
      "metadata": {
        "id": "bcDeUjrD0Skj"
      },
      "execution_count": null,
      "outputs": []
    },
    {
      "cell_type": "code",
      "source": [
        "# Null values of type,Current Ver,Android Ver, columns are replaced with mode of respective columns.\n",
        "# Mode is most recurring value of that particular column, so null values are being replaced by mode.\n",
        "play_store['Type'].fillna(str(play_store['Type'].mode().values[0]),inplace=True)\n",
        "play_store['Current Ver'].fillna(str(play_store['Current Ver'].mode().values[0]),inplace=True)\n",
        "play_store['Android Ver'].fillna(str(play_store['Android Ver'].mode().values[0]),inplace=True)"
      ],
      "metadata": {
        "id": "_okuzts40zBc"
      },
      "execution_count": null,
      "outputs": []
    },
    {
      "cell_type": "code",
      "source": [
        "# Check if still null values are present\n",
        "play_store.isnull().sum()"
      ],
      "metadata": {
        "colab": {
          "base_uri": "https://localhost:8080/"
        },
        "id": "OcnslbeD3uci",
        "outputId": "479d508e-d5e8-46ce-d40b-20c846696744"
      },
      "execution_count": null,
      "outputs": [
        {
          "output_type": "execute_result",
          "data": {
            "text/plain": [
              "App               0\n",
              "Category          0\n",
              "Rating            0\n",
              "Reviews           0\n",
              "Size              0\n",
              "Installs          0\n",
              "Type              0\n",
              "Price             0\n",
              "Content Rating    0\n",
              "Genres            0\n",
              "Last Updated      0\n",
              "Current Ver       0\n",
              "Android Ver       0\n",
              "dtype: int64"
            ]
          },
          "metadata": {},
          "execution_count": 12
        }
      ]
    },
    {
      "cell_type": "markdown",
      "source": [
        "# **Dealing with null values in user review data**"
      ],
      "metadata": {
        "id": "CT7c2P4-e42B"
      }
    },
    {
      "cell_type": "code",
      "source": [
        "# Replacing null values in sentiment polarity column with median of all values present in that column\n",
        "user_review.Sentiment_Polarity=user_review['Sentiment_Polarity'].transform(impute_median)"
      ],
      "metadata": {
        "id": "4tw3yelGUem2"
      },
      "execution_count": 29,
      "outputs": []
    },
    {
      "cell_type": "code",
      "source": [
        "# Replacing null values in Sentiment_Subjectivity column with median of all values present in that column\n",
        "user_review.Sentiment_Subjectivity=user_review['Sentiment_Subjectivity'].transform(impute_median)"
      ],
      "metadata": {
        "id": "2dP2gzHufK4J"
      },
      "execution_count": 30,
      "outputs": []
    },
    {
      "cell_type": "code",
      "source": [
        "# Null values of type,Current Ver,Android Ver, columns are replaced with mode of respective columns.\n",
        "user_review['Sentiment'].fillna(str(user_review['Sentiment'].mode().values[0]),inplace=True)"
      ],
      "metadata": {
        "id": "ROXq03p1gCcI"
      },
      "execution_count": 31,
      "outputs": []
    },
    {
      "cell_type": "code",
      "source": [
        "# Check if still null values are present\n",
        "user_review.isnull().sum()"
      ],
      "metadata": {
        "colab": {
          "base_uri": "https://localhost:8080/"
        },
        "id": "EkgY18Nrgjk8",
        "outputId": "cfb88730-424b-470c-f403-8e3d5f4aa178"
      },
      "execution_count": 32,
      "outputs": [
        {
          "output_type": "execute_result",
          "data": {
            "text/plain": [
              "App                           0\n",
              "Translated_Review         26868\n",
              "Sentiment                     0\n",
              "Sentiment_Polarity            0\n",
              "Sentiment_Subjectivity        0\n",
              "dtype: int64"
            ]
          },
          "metadata": {},
          "execution_count": 32
        }
      ]
    },
    {
      "cell_type": "markdown",
      "source": [
        "# **What is to be cleaned?**\n",
        "\n",
        "### *   Reviews: It has to be a numerical column and datatype into int/float\n",
        "\n",
        "### *   Size: Every Entry has \"M\" and \"K\" which needs to be removed and datatype into int/float\n",
        "### *   Installs: Every entry has \"+\" at the end which needs to be removed and datatype into int/float also it has entries like \"Free\"\n",
        "\n",
        "### *   Price: It has \"S\" at the begining it needs to be cleaned and datatype into int/float\n",
        "### *   Last Updated: it is date time column,datatype shouldbe changed accordingly and in feature engineering we will splitt the column into year and month\n",
        "\n",
        "### *   Current Ver: The entries are 1.0.1,1.2.1,1.2 so we will make it 101,121,120, correct upto 3 places\n",
        "### *   Android Ver: we will remove \"And up\" from the end and making 4.0.3 as 403\n",
        "\n",
        "\n"
      ],
      "metadata": {
        "id": "0oaQbJlU_egR"
      }
    },
    {
      "cell_type": "markdown",
      "source": [
        "### **Review Column**"
      ],
      "metadata": {
        "id": "y5nlJ1hkNDtT"
      }
    },
    {
      "cell_type": "code",
      "source": [
        "# # Columns review should be of int type\n",
        "# play_store['Reviews'] = pd.to_numeric(play_store['Reviews'],errors='coerce')\n",
        "# give_info()"
      ],
      "metadata": {
        "id": "Vo48uRxz-Hbm"
      },
      "execution_count": 19,
      "outputs": []
    },
    {
      "cell_type": "markdown",
      "source": [
        "### **Size Column**"
      ],
      "metadata": {
        "id": "g7kPQVjANeqw"
      }
    },
    {
      "cell_type": "code",
      "source": [
        "# Removing the ',' and '+' Signs\n",
        "play_store['Size'] = play_store.Size.apply(lambda x: x.strip('+'))\n",
        "play_store['Size'] = play_store.Size.apply(lambda x: x.replace(',', ''))"
      ],
      "metadata": {
        "id": "v6b2sBknAQFl"
      },
      "execution_count": null,
      "outputs": []
    },
    {
      "cell_type": "code",
      "source": [
        "# Convert M to Mega\n",
        "play_store['Size'] = play_store.Size.apply(lambda x: x.replace('M', 'e+6'))\n",
        "\n",
        "# Convert the K to Kilo\n",
        "play_store['Size'] = play_store.Size.apply(lambda x: x.replace('k', 'e+3'))\n",
        "\n",
        "# Replacing the Varies with device value with Nan\n",
        "play_store['Size'] = play_store.Size.replace('Varies with device', np.NaN)"
      ],
      "metadata": {
        "id": "ts6WggeFI5J_"
      },
      "execution_count": 20,
      "outputs": []
    },
    {
      "cell_type": "code",
      "source": [
        "# Convert Size Column from object to integer\n",
        "play_store['Size'] = pd.to_numeric(play_store['Size'])\n",
        "give_info()"
      ],
      "metadata": {
        "id": "2Z78bQaAJ_vQ",
        "colab": {
          "base_uri": "https://localhost:8080/",
          "height": 415
        },
        "outputId": "4b6da906-4dc6-4f30-ddf0-3b2a2bd05686"
      },
      "execution_count": 22,
      "outputs": [
        {
          "output_type": "error",
          "ename": "TypeError",
          "evalue": "ignored",
          "traceback": [
            "\u001b[0;31m---------------------------------------------------------------------------\u001b[0m",
            "\u001b[0;31mTypeError\u001b[0m                                 Traceback (most recent call last)",
            "\u001b[0;32m<ipython-input-22-b78e40f9bb4f>\u001b[0m in \u001b[0;36m<module>\u001b[0;34m\u001b[0m\n\u001b[1;32m      1\u001b[0m \u001b[0;31m# Convert Size Column from object to integer\u001b[0m\u001b[0;34m\u001b[0m\u001b[0;34m\u001b[0m\u001b[0;34m\u001b[0m\u001b[0m\n\u001b[1;32m      2\u001b[0m \u001b[0mplay_store\u001b[0m\u001b[0;34m[\u001b[0m\u001b[0;34m'Size'\u001b[0m\u001b[0;34m]\u001b[0m \u001b[0;34m=\u001b[0m \u001b[0mpd\u001b[0m\u001b[0;34m.\u001b[0m\u001b[0mto_numeric\u001b[0m\u001b[0;34m(\u001b[0m\u001b[0mplay_store\u001b[0m\u001b[0;34m[\u001b[0m\u001b[0;34m'Size'\u001b[0m\u001b[0;34m]\u001b[0m\u001b[0;34m)\u001b[0m\u001b[0;34m\u001b[0m\u001b[0;34m\u001b[0m\u001b[0m\n\u001b[0;32m----> 3\u001b[0;31m \u001b[0mgive_info\u001b[0m\u001b[0;34m(\u001b[0m\u001b[0;34m)\u001b[0m\u001b[0;34m\u001b[0m\u001b[0;34m\u001b[0m\u001b[0m\n\u001b[0m",
            "\u001b[0;32m<ipython-input-6-e34abadbf28b>\u001b[0m in \u001b[0;36mgive_info\u001b[0;34m()\u001b[0m\n\u001b[1;32m      4\u001b[0m   \u001b[0mextra_info\u001b[0m\u001b[0;34m[\u001b[0m\u001b[0;34m'data_type'\u001b[0m\u001b[0;34m]\u001b[0m \u001b[0;34m=\u001b[0m \u001b[0mplay_store\u001b[0m\u001b[0;34m.\u001b[0m\u001b[0mdtypes\u001b[0m\u001b[0;34m\u001b[0m\u001b[0;34m\u001b[0m\u001b[0m\n\u001b[1;32m      5\u001b[0m   \u001b[0mextra_info\u001b[0m\u001b[0;34m[\u001b[0m\u001b[0;34m'null_count'\u001b[0m\u001b[0;34m]\u001b[0m \u001b[0;34m=\u001b[0m \u001b[0mplay_store\u001b[0m\u001b[0;34m.\u001b[0m\u001b[0misnull\u001b[0m\u001b[0;34m(\u001b[0m\u001b[0;34m)\u001b[0m\u001b[0;34m.\u001b[0m\u001b[0msum\u001b[0m\u001b[0;34m(\u001b[0m\u001b[0;34m)\u001b[0m\u001b[0;34m\u001b[0m\u001b[0;34m\u001b[0m\u001b[0m\n\u001b[0;32m----> 6\u001b[0;31m   \u001b[0mextra_info\u001b[0m\u001b[0;34m[\u001b[0m\u001b[0;34m'unique_count'\u001b[0m\u001b[0;34m]\u001b[0m \u001b[0;34m=\u001b[0m \u001b[0mplay_store\u001b[0m\u001b[0;34m.\u001b[0m\u001b[0mnunique\u001b[0m\u001b[0;34m(\u001b[0m\u001b[0;34m)\u001b[0m\u001b[0;34m\u001b[0m\u001b[0;34m\u001b[0m\u001b[0m\n\u001b[0m\u001b[1;32m      7\u001b[0m   \u001b[0;32mreturn\u001b[0m \u001b[0mextra_info\u001b[0m\u001b[0;34m\u001b[0m\u001b[0;34m\u001b[0m\u001b[0m\n\u001b[1;32m      8\u001b[0m \u001b[0;34m\u001b[0m\u001b[0m\n",
            "\u001b[0;32m/usr/local/lib/python3.7/dist-packages/pandas/core/frame.py\u001b[0m in \u001b[0;36mnunique\u001b[0;34m(self, axis, dropna)\u001b[0m\n\u001b[1;32m   9956\u001b[0m         \u001b[0mdtype\u001b[0m\u001b[0;34m:\u001b[0m \u001b[0mint64\u001b[0m\u001b[0;34m\u001b[0m\u001b[0;34m\u001b[0m\u001b[0m\n\u001b[1;32m   9957\u001b[0m         \"\"\"\n\u001b[0;32m-> 9958\u001b[0;31m         \u001b[0;32mreturn\u001b[0m \u001b[0mself\u001b[0m\u001b[0;34m.\u001b[0m\u001b[0mapply\u001b[0m\u001b[0;34m(\u001b[0m\u001b[0mSeries\u001b[0m\u001b[0;34m.\u001b[0m\u001b[0mnunique\u001b[0m\u001b[0;34m,\u001b[0m \u001b[0maxis\u001b[0m\u001b[0;34m=\u001b[0m\u001b[0maxis\u001b[0m\u001b[0;34m,\u001b[0m \u001b[0mdropna\u001b[0m\u001b[0;34m=\u001b[0m\u001b[0mdropna\u001b[0m\u001b[0;34m)\u001b[0m\u001b[0;34m\u001b[0m\u001b[0;34m\u001b[0m\u001b[0m\n\u001b[0m\u001b[1;32m   9959\u001b[0m \u001b[0;34m\u001b[0m\u001b[0m\n\u001b[1;32m   9960\u001b[0m     \u001b[0;32mdef\u001b[0m \u001b[0midxmin\u001b[0m\u001b[0;34m(\u001b[0m\u001b[0mself\u001b[0m\u001b[0;34m,\u001b[0m \u001b[0maxis\u001b[0m\u001b[0;34m:\u001b[0m \u001b[0mAxis\u001b[0m \u001b[0;34m=\u001b[0m \u001b[0;36m0\u001b[0m\u001b[0;34m,\u001b[0m \u001b[0mskipna\u001b[0m\u001b[0;34m:\u001b[0m \u001b[0mbool\u001b[0m \u001b[0;34m=\u001b[0m \u001b[0;32mTrue\u001b[0m\u001b[0;34m)\u001b[0m \u001b[0;34m->\u001b[0m \u001b[0mSeries\u001b[0m\u001b[0;34m:\u001b[0m\u001b[0;34m\u001b[0m\u001b[0;34m\u001b[0m\u001b[0m\n",
            "\u001b[0;32m/usr/local/lib/python3.7/dist-packages/pandas/core/frame.py\u001b[0m in \u001b[0;36mapply\u001b[0;34m(self, func, axis, raw, result_type, args, **kwargs)\u001b[0m\n\u001b[1;32m   8738\u001b[0m             \u001b[0mkwargs\u001b[0m\u001b[0;34m=\u001b[0m\u001b[0mkwargs\u001b[0m\u001b[0;34m,\u001b[0m\u001b[0;34m\u001b[0m\u001b[0;34m\u001b[0m\u001b[0m\n\u001b[1;32m   8739\u001b[0m         )\n\u001b[0;32m-> 8740\u001b[0;31m         \u001b[0;32mreturn\u001b[0m \u001b[0mop\u001b[0m\u001b[0;34m.\u001b[0m\u001b[0mapply\u001b[0m\u001b[0;34m(\u001b[0m\u001b[0;34m)\u001b[0m\u001b[0;34m\u001b[0m\u001b[0;34m\u001b[0m\u001b[0m\n\u001b[0m\u001b[1;32m   8741\u001b[0m \u001b[0;34m\u001b[0m\u001b[0m\n\u001b[1;32m   8742\u001b[0m     def applymap(\n",
            "\u001b[0;32m/usr/local/lib/python3.7/dist-packages/pandas/core/apply.py\u001b[0m in \u001b[0;36mapply\u001b[0;34m(self)\u001b[0m\n\u001b[1;32m    686\u001b[0m             \u001b[0;32mreturn\u001b[0m \u001b[0mself\u001b[0m\u001b[0;34m.\u001b[0m\u001b[0mapply_raw\u001b[0m\u001b[0;34m(\u001b[0m\u001b[0;34m)\u001b[0m\u001b[0;34m\u001b[0m\u001b[0;34m\u001b[0m\u001b[0m\n\u001b[1;32m    687\u001b[0m \u001b[0;34m\u001b[0m\u001b[0m\n\u001b[0;32m--> 688\u001b[0;31m         \u001b[0;32mreturn\u001b[0m \u001b[0mself\u001b[0m\u001b[0;34m.\u001b[0m\u001b[0mapply_standard\u001b[0m\u001b[0;34m(\u001b[0m\u001b[0;34m)\u001b[0m\u001b[0;34m\u001b[0m\u001b[0;34m\u001b[0m\u001b[0m\n\u001b[0m\u001b[1;32m    689\u001b[0m \u001b[0;34m\u001b[0m\u001b[0m\n\u001b[1;32m    690\u001b[0m     \u001b[0;32mdef\u001b[0m \u001b[0magg\u001b[0m\u001b[0;34m(\u001b[0m\u001b[0mself\u001b[0m\u001b[0;34m)\u001b[0m\u001b[0;34m:\u001b[0m\u001b[0;34m\u001b[0m\u001b[0;34m\u001b[0m\u001b[0m\n",
            "\u001b[0;32m/usr/local/lib/python3.7/dist-packages/pandas/core/apply.py\u001b[0m in \u001b[0;36mapply_standard\u001b[0;34m(self)\u001b[0m\n\u001b[1;32m    810\u001b[0m \u001b[0;34m\u001b[0m\u001b[0m\n\u001b[1;32m    811\u001b[0m     \u001b[0;32mdef\u001b[0m \u001b[0mapply_standard\u001b[0m\u001b[0;34m(\u001b[0m\u001b[0mself\u001b[0m\u001b[0;34m)\u001b[0m\u001b[0;34m:\u001b[0m\u001b[0;34m\u001b[0m\u001b[0;34m\u001b[0m\u001b[0m\n\u001b[0;32m--> 812\u001b[0;31m         \u001b[0mresults\u001b[0m\u001b[0;34m,\u001b[0m \u001b[0mres_index\u001b[0m \u001b[0;34m=\u001b[0m \u001b[0mself\u001b[0m\u001b[0;34m.\u001b[0m\u001b[0mapply_series_generator\u001b[0m\u001b[0;34m(\u001b[0m\u001b[0;34m)\u001b[0m\u001b[0;34m\u001b[0m\u001b[0;34m\u001b[0m\u001b[0m\n\u001b[0m\u001b[1;32m    813\u001b[0m \u001b[0;34m\u001b[0m\u001b[0m\n\u001b[1;32m    814\u001b[0m         \u001b[0;31m# wrap results\u001b[0m\u001b[0;34m\u001b[0m\u001b[0;34m\u001b[0m\u001b[0;34m\u001b[0m\u001b[0m\n",
            "\u001b[0;32m/usr/local/lib/python3.7/dist-packages/pandas/core/apply.py\u001b[0m in \u001b[0;36mapply_series_generator\u001b[0;34m(self)\u001b[0m\n\u001b[1;32m    826\u001b[0m             \u001b[0;32mfor\u001b[0m \u001b[0mi\u001b[0m\u001b[0;34m,\u001b[0m \u001b[0mv\u001b[0m \u001b[0;32min\u001b[0m \u001b[0menumerate\u001b[0m\u001b[0;34m(\u001b[0m\u001b[0mseries_gen\u001b[0m\u001b[0;34m)\u001b[0m\u001b[0;34m:\u001b[0m\u001b[0;34m\u001b[0m\u001b[0;34m\u001b[0m\u001b[0m\n\u001b[1;32m    827\u001b[0m                 \u001b[0;31m# ignore SettingWithCopy here in case the user mutates\u001b[0m\u001b[0;34m\u001b[0m\u001b[0;34m\u001b[0m\u001b[0;34m\u001b[0m\u001b[0m\n\u001b[0;32m--> 828\u001b[0;31m                 \u001b[0mresults\u001b[0m\u001b[0;34m[\u001b[0m\u001b[0mi\u001b[0m\u001b[0;34m]\u001b[0m \u001b[0;34m=\u001b[0m \u001b[0mself\u001b[0m\u001b[0;34m.\u001b[0m\u001b[0mf\u001b[0m\u001b[0;34m(\u001b[0m\u001b[0mv\u001b[0m\u001b[0;34m)\u001b[0m\u001b[0;34m\u001b[0m\u001b[0;34m\u001b[0m\u001b[0m\n\u001b[0m\u001b[1;32m    829\u001b[0m                 \u001b[0;32mif\u001b[0m \u001b[0misinstance\u001b[0m\u001b[0;34m(\u001b[0m\u001b[0mresults\u001b[0m\u001b[0;34m[\u001b[0m\u001b[0mi\u001b[0m\u001b[0;34m]\u001b[0m\u001b[0;34m,\u001b[0m \u001b[0mABCSeries\u001b[0m\u001b[0;34m)\u001b[0m\u001b[0;34m:\u001b[0m\u001b[0;34m\u001b[0m\u001b[0;34m\u001b[0m\u001b[0m\n\u001b[1;32m    830\u001b[0m                     \u001b[0;31m# If we have a view on v, we need to make a copy because\u001b[0m\u001b[0;34m\u001b[0m\u001b[0;34m\u001b[0m\u001b[0;34m\u001b[0m\u001b[0m\n",
            "\u001b[0;32m/usr/local/lib/python3.7/dist-packages/pandas/core/apply.py\u001b[0m in \u001b[0;36mf\u001b[0;34m(x)\u001b[0m\n\u001b[1;32m    129\u001b[0m \u001b[0;34m\u001b[0m\u001b[0m\n\u001b[1;32m    130\u001b[0m             \u001b[0;32mdef\u001b[0m \u001b[0mf\u001b[0m\u001b[0;34m(\u001b[0m\u001b[0mx\u001b[0m\u001b[0;34m)\u001b[0m\u001b[0;34m:\u001b[0m\u001b[0;34m\u001b[0m\u001b[0;34m\u001b[0m\u001b[0m\n\u001b[0;32m--> 131\u001b[0;31m                 \u001b[0;32mreturn\u001b[0m \u001b[0mfunc\u001b[0m\u001b[0;34m(\u001b[0m\u001b[0mx\u001b[0m\u001b[0;34m,\u001b[0m \u001b[0;34m*\u001b[0m\u001b[0margs\u001b[0m\u001b[0;34m,\u001b[0m \u001b[0;34m**\u001b[0m\u001b[0mkwargs\u001b[0m\u001b[0;34m)\u001b[0m\u001b[0;34m\u001b[0m\u001b[0;34m\u001b[0m\u001b[0m\n\u001b[0m\u001b[1;32m    132\u001b[0m \u001b[0;34m\u001b[0m\u001b[0m\n\u001b[1;32m    133\u001b[0m         \u001b[0;32melse\u001b[0m\u001b[0;34m:\u001b[0m\u001b[0;34m\u001b[0m\u001b[0;34m\u001b[0m\u001b[0m\n",
            "\u001b[0;32m/usr/local/lib/python3.7/dist-packages/pandas/core/base.py\u001b[0m in \u001b[0;36mnunique\u001b[0;34m(self, dropna)\u001b[0m\n\u001b[1;32m   1015\u001b[0m         \u001b[0;36m4\u001b[0m\u001b[0;34m\u001b[0m\u001b[0;34m\u001b[0m\u001b[0m\n\u001b[1;32m   1016\u001b[0m         \"\"\"\n\u001b[0;32m-> 1017\u001b[0;31m         \u001b[0muniqs\u001b[0m \u001b[0;34m=\u001b[0m \u001b[0mself\u001b[0m\u001b[0;34m.\u001b[0m\u001b[0munique\u001b[0m\u001b[0;34m(\u001b[0m\u001b[0;34m)\u001b[0m\u001b[0;34m\u001b[0m\u001b[0;34m\u001b[0m\u001b[0m\n\u001b[0m\u001b[1;32m   1018\u001b[0m         \u001b[0;32mif\u001b[0m \u001b[0mdropna\u001b[0m\u001b[0;34m:\u001b[0m\u001b[0;34m\u001b[0m\u001b[0;34m\u001b[0m\u001b[0m\n\u001b[1;32m   1019\u001b[0m             \u001b[0muniqs\u001b[0m \u001b[0;34m=\u001b[0m \u001b[0mremove_na_arraylike\u001b[0m\u001b[0;34m(\u001b[0m\u001b[0muniqs\u001b[0m\u001b[0;34m)\u001b[0m\u001b[0;34m\u001b[0m\u001b[0;34m\u001b[0m\u001b[0m\n",
            "\u001b[0;32m/usr/local/lib/python3.7/dist-packages/pandas/core/series.py\u001b[0m in \u001b[0;36munique\u001b[0;34m(self)\u001b[0m\n\u001b[1;32m   2037\u001b[0m         \u001b[0mCategories\u001b[0m \u001b[0;34m(\u001b[0m\u001b[0;36m3\u001b[0m\u001b[0;34m,\u001b[0m \u001b[0mobject\u001b[0m\u001b[0;34m)\u001b[0m\u001b[0;34m:\u001b[0m \u001b[0;34m[\u001b[0m\u001b[0;34m'a'\u001b[0m \u001b[0;34m<\u001b[0m \u001b[0;34m'b'\u001b[0m \u001b[0;34m<\u001b[0m \u001b[0;34m'c'\u001b[0m\u001b[0;34m]\u001b[0m\u001b[0;34m\u001b[0m\u001b[0;34m\u001b[0m\u001b[0m\n\u001b[1;32m   2038\u001b[0m         \"\"\"\n\u001b[0;32m-> 2039\u001b[0;31m         \u001b[0;32mreturn\u001b[0m \u001b[0msuper\u001b[0m\u001b[0;34m(\u001b[0m\u001b[0;34m)\u001b[0m\u001b[0;34m.\u001b[0m\u001b[0munique\u001b[0m\u001b[0;34m(\u001b[0m\u001b[0;34m)\u001b[0m\u001b[0;34m\u001b[0m\u001b[0;34m\u001b[0m\u001b[0m\n\u001b[0m\u001b[1;32m   2040\u001b[0m \u001b[0;34m\u001b[0m\u001b[0m\n\u001b[1;32m   2041\u001b[0m     \u001b[0;34m@\u001b[0m\u001b[0moverload\u001b[0m\u001b[0;34m\u001b[0m\u001b[0;34m\u001b[0m\u001b[0m\n",
            "\u001b[0;32m/usr/local/lib/python3.7/dist-packages/pandas/core/base.py\u001b[0m in \u001b[0;36munique\u001b[0;34m(self)\u001b[0m\n\u001b[1;32m    977\u001b[0m                     \u001b[0mresult\u001b[0m \u001b[0;34m=\u001b[0m \u001b[0mnp\u001b[0m\u001b[0;34m.\u001b[0m\u001b[0masarray\u001b[0m\u001b[0;34m(\u001b[0m\u001b[0mresult\u001b[0m\u001b[0;34m)\u001b[0m\u001b[0;34m\u001b[0m\u001b[0;34m\u001b[0m\u001b[0m\n\u001b[1;32m    978\u001b[0m         \u001b[0;32melse\u001b[0m\u001b[0;34m:\u001b[0m\u001b[0;34m\u001b[0m\u001b[0;34m\u001b[0m\u001b[0m\n\u001b[0;32m--> 979\u001b[0;31m             \u001b[0mresult\u001b[0m \u001b[0;34m=\u001b[0m \u001b[0munique1d\u001b[0m\u001b[0;34m(\u001b[0m\u001b[0mvalues\u001b[0m\u001b[0;34m)\u001b[0m\u001b[0;34m\u001b[0m\u001b[0;34m\u001b[0m\u001b[0m\n\u001b[0m\u001b[1;32m    980\u001b[0m \u001b[0;34m\u001b[0m\u001b[0m\n\u001b[1;32m    981\u001b[0m         \u001b[0;32mreturn\u001b[0m \u001b[0mresult\u001b[0m\u001b[0;34m\u001b[0m\u001b[0;34m\u001b[0m\u001b[0m\n",
            "\u001b[0;32m/usr/local/lib/python3.7/dist-packages/pandas/core/algorithms.py\u001b[0m in \u001b[0;36munique\u001b[0;34m(values)\u001b[0m\n\u001b[1;32m    429\u001b[0m \u001b[0;34m\u001b[0m\u001b[0m\n\u001b[1;32m    430\u001b[0m     \u001b[0mtable\u001b[0m \u001b[0;34m=\u001b[0m \u001b[0mhtable\u001b[0m\u001b[0;34m(\u001b[0m\u001b[0mlen\u001b[0m\u001b[0;34m(\u001b[0m\u001b[0mvalues\u001b[0m\u001b[0;34m)\u001b[0m\u001b[0;34m)\u001b[0m\u001b[0;34m\u001b[0m\u001b[0;34m\u001b[0m\u001b[0m\n\u001b[0;32m--> 431\u001b[0;31m     \u001b[0muniques\u001b[0m \u001b[0;34m=\u001b[0m \u001b[0mtable\u001b[0m\u001b[0;34m.\u001b[0m\u001b[0munique\u001b[0m\u001b[0;34m(\u001b[0m\u001b[0mvalues\u001b[0m\u001b[0;34m)\u001b[0m\u001b[0;34m\u001b[0m\u001b[0;34m\u001b[0m\u001b[0m\n\u001b[0m\u001b[1;32m    432\u001b[0m     \u001b[0muniques\u001b[0m \u001b[0;34m=\u001b[0m \u001b[0m_reconstruct_data\u001b[0m\u001b[0;34m(\u001b[0m\u001b[0muniques\u001b[0m\u001b[0;34m,\u001b[0m \u001b[0moriginal\u001b[0m\u001b[0;34m.\u001b[0m\u001b[0mdtype\u001b[0m\u001b[0;34m,\u001b[0m \u001b[0moriginal\u001b[0m\u001b[0;34m)\u001b[0m\u001b[0;34m\u001b[0m\u001b[0;34m\u001b[0m\u001b[0m\n\u001b[1;32m    433\u001b[0m     \u001b[0;32mreturn\u001b[0m \u001b[0muniques\u001b[0m\u001b[0;34m\u001b[0m\u001b[0;34m\u001b[0m\u001b[0m\n",
            "\u001b[0;32mpandas/_libs/hashtable_class_helper.pxi\u001b[0m in \u001b[0;36mpandas._libs.hashtable.PyObjectHashTable.unique\u001b[0;34m()\u001b[0m\n",
            "\u001b[0;32mpandas/_libs/hashtable_class_helper.pxi\u001b[0m in \u001b[0;36mpandas._libs.hashtable.PyObjectHashTable._unique\u001b[0;34m()\u001b[0m\n",
            "\u001b[0;31mTypeError\u001b[0m: unhashable type: 'Series'"
          ]
        }
      ]
    },
    {
      "cell_type": "markdown",
      "source": [
        "### **Installs Column**"
      ],
      "metadata": {
        "id": "zRxDqPXCNqls"
      }
    },
    {
      "cell_type": "code",
      "source": [
        "#Remove '+' sign from \n",
        "play_store['Installs'] = play_store.Installs.apply(lambda x: x.strip('+'))\n",
        "\n",
        "# Remove the ',' from the numbers.\n",
        "play_store['Installs'] = play_store.Installs.apply(lambda x: x.replace(',', ''))\n",
        "\n",
        "# Convert it from string type to numeric type\n",
        "play_store['Installs'] = pd.to_numeric(play_store['Installs'])"
      ],
      "metadata": {
        "id": "PBosTQycKkTQ"
      },
      "execution_count": null,
      "outputs": []
    },
    {
      "cell_type": "markdown",
      "source": [
        "### **Price Column**"
      ],
      "metadata": {
        "id": "exR84LjyN-Y-"
      }
    },
    {
      "cell_type": "code",
      "source": [
        "# Remove'$' sign\n",
        "play_store['Price'] = play_store.Price.apply(lambda x: x.strip('$'))\n",
        "\n",
        "# Convert the values to Numeric type.\n",
        "play_store['Price'] = pd.to_numeric(play_store['Price'])"
      ],
      "metadata": {
        "id": "FnecJSmbOFGr"
      },
      "execution_count": null,
      "outputs": []
    },
    {
      "cell_type": "code",
      "source": [],
      "metadata": {
        "colab": {
          "base_uri": "https://localhost:8080/",
          "height": 380
        },
        "id": "IXr2b_qSbGUN",
        "outputId": "77ea735e-da2e-4c02-fb3c-0a8537132561"
      },
      "execution_count": null,
      "outputs": [
        {
          "output_type": "error",
          "ename": "TypeError",
          "evalue": "ignored",
          "traceback": [
            "\u001b[0;31m---------------------------------------------------------------------------\u001b[0m",
            "\u001b[0;31mTypeError\u001b[0m                                 Traceback (most recent call last)",
            "\u001b[0;32m<ipython-input-26-fd01c8e450bc>\u001b[0m in \u001b[0;36m<module>\u001b[0;34m\u001b[0m\n\u001b[0;32m----> 1\u001b[0;31m \u001b[0mgive_info\u001b[0m\u001b[0;34m(\u001b[0m\u001b[0;34m)\u001b[0m\u001b[0;34m\u001b[0m\u001b[0;34m\u001b[0m\u001b[0m\n\u001b[0m",
            "\u001b[0;32m<ipython-input-7-e34abadbf28b>\u001b[0m in \u001b[0;36mgive_info\u001b[0;34m()\u001b[0m\n\u001b[1;32m      4\u001b[0m   \u001b[0mextra_info\u001b[0m\u001b[0;34m[\u001b[0m\u001b[0;34m'data_type'\u001b[0m\u001b[0;34m]\u001b[0m \u001b[0;34m=\u001b[0m \u001b[0mplay_store\u001b[0m\u001b[0;34m.\u001b[0m\u001b[0mdtypes\u001b[0m\u001b[0;34m\u001b[0m\u001b[0;34m\u001b[0m\u001b[0m\n\u001b[1;32m      5\u001b[0m   \u001b[0mextra_info\u001b[0m\u001b[0;34m[\u001b[0m\u001b[0;34m'null_count'\u001b[0m\u001b[0;34m]\u001b[0m \u001b[0;34m=\u001b[0m \u001b[0mplay_store\u001b[0m\u001b[0;34m.\u001b[0m\u001b[0misnull\u001b[0m\u001b[0;34m(\u001b[0m\u001b[0;34m)\u001b[0m\u001b[0;34m.\u001b[0m\u001b[0msum\u001b[0m\u001b[0;34m(\u001b[0m\u001b[0;34m)\u001b[0m\u001b[0;34m\u001b[0m\u001b[0;34m\u001b[0m\u001b[0m\n\u001b[0;32m----> 6\u001b[0;31m   \u001b[0mextra_info\u001b[0m\u001b[0;34m[\u001b[0m\u001b[0;34m'unique_count'\u001b[0m\u001b[0;34m]\u001b[0m \u001b[0;34m=\u001b[0m \u001b[0mplay_store\u001b[0m\u001b[0;34m.\u001b[0m\u001b[0mnunique\u001b[0m\u001b[0;34m(\u001b[0m\u001b[0;34m)\u001b[0m\u001b[0;34m\u001b[0m\u001b[0;34m\u001b[0m\u001b[0m\n\u001b[0m\u001b[1;32m      7\u001b[0m   \u001b[0;32mreturn\u001b[0m \u001b[0mextra_info\u001b[0m\u001b[0;34m\u001b[0m\u001b[0;34m\u001b[0m\u001b[0m\n\u001b[1;32m      8\u001b[0m \u001b[0;34m\u001b[0m\u001b[0m\n",
            "\u001b[0;32m/usr/local/lib/python3.7/dist-packages/pandas/core/frame.py\u001b[0m in \u001b[0;36mnunique\u001b[0;34m(self, axis, dropna)\u001b[0m\n\u001b[1;32m   9956\u001b[0m         \u001b[0mdtype\u001b[0m\u001b[0;34m:\u001b[0m \u001b[0mint64\u001b[0m\u001b[0;34m\u001b[0m\u001b[0;34m\u001b[0m\u001b[0m\n\u001b[1;32m   9957\u001b[0m         \"\"\"\n\u001b[0;32m-> 9958\u001b[0;31m         \u001b[0;32mreturn\u001b[0m \u001b[0mself\u001b[0m\u001b[0;34m.\u001b[0m\u001b[0mapply\u001b[0m\u001b[0;34m(\u001b[0m\u001b[0mSeries\u001b[0m\u001b[0;34m.\u001b[0m\u001b[0mnunique\u001b[0m\u001b[0;34m,\u001b[0m \u001b[0maxis\u001b[0m\u001b[0;34m=\u001b[0m\u001b[0maxis\u001b[0m\u001b[0;34m,\u001b[0m \u001b[0mdropna\u001b[0m\u001b[0;34m=\u001b[0m\u001b[0mdropna\u001b[0m\u001b[0;34m)\u001b[0m\u001b[0;34m\u001b[0m\u001b[0;34m\u001b[0m\u001b[0m\n\u001b[0m\u001b[1;32m   9959\u001b[0m \u001b[0;34m\u001b[0m\u001b[0m\n\u001b[1;32m   9960\u001b[0m     \u001b[0;32mdef\u001b[0m \u001b[0midxmin\u001b[0m\u001b[0;34m(\u001b[0m\u001b[0mself\u001b[0m\u001b[0;34m,\u001b[0m \u001b[0maxis\u001b[0m\u001b[0;34m:\u001b[0m \u001b[0mAxis\u001b[0m \u001b[0;34m=\u001b[0m \u001b[0;36m0\u001b[0m\u001b[0;34m,\u001b[0m \u001b[0mskipna\u001b[0m\u001b[0;34m:\u001b[0m \u001b[0mbool\u001b[0m \u001b[0;34m=\u001b[0m \u001b[0;32mTrue\u001b[0m\u001b[0;34m)\u001b[0m \u001b[0;34m->\u001b[0m \u001b[0mSeries\u001b[0m\u001b[0;34m:\u001b[0m\u001b[0;34m\u001b[0m\u001b[0;34m\u001b[0m\u001b[0m\n",
            "\u001b[0;32m/usr/local/lib/python3.7/dist-packages/pandas/core/frame.py\u001b[0m in \u001b[0;36mapply\u001b[0;34m(self, func, axis, raw, result_type, args, **kwargs)\u001b[0m\n\u001b[1;32m   8738\u001b[0m             \u001b[0mkwargs\u001b[0m\u001b[0;34m=\u001b[0m\u001b[0mkwargs\u001b[0m\u001b[0;34m,\u001b[0m\u001b[0;34m\u001b[0m\u001b[0;34m\u001b[0m\u001b[0m\n\u001b[1;32m   8739\u001b[0m         )\n\u001b[0;32m-> 8740\u001b[0;31m         \u001b[0;32mreturn\u001b[0m \u001b[0mop\u001b[0m\u001b[0;34m.\u001b[0m\u001b[0mapply\u001b[0m\u001b[0;34m(\u001b[0m\u001b[0;34m)\u001b[0m\u001b[0;34m\u001b[0m\u001b[0;34m\u001b[0m\u001b[0m\n\u001b[0m\u001b[1;32m   8741\u001b[0m \u001b[0;34m\u001b[0m\u001b[0m\n\u001b[1;32m   8742\u001b[0m     def applymap(\n",
            "\u001b[0;32m/usr/local/lib/python3.7/dist-packages/pandas/core/apply.py\u001b[0m in \u001b[0;36mapply\u001b[0;34m(self)\u001b[0m\n\u001b[1;32m    686\u001b[0m             \u001b[0;32mreturn\u001b[0m \u001b[0mself\u001b[0m\u001b[0;34m.\u001b[0m\u001b[0mapply_raw\u001b[0m\u001b[0;34m(\u001b[0m\u001b[0;34m)\u001b[0m\u001b[0;34m\u001b[0m\u001b[0;34m\u001b[0m\u001b[0m\n\u001b[1;32m    687\u001b[0m \u001b[0;34m\u001b[0m\u001b[0m\n\u001b[0;32m--> 688\u001b[0;31m         \u001b[0;32mreturn\u001b[0m \u001b[0mself\u001b[0m\u001b[0;34m.\u001b[0m\u001b[0mapply_standard\u001b[0m\u001b[0;34m(\u001b[0m\u001b[0;34m)\u001b[0m\u001b[0;34m\u001b[0m\u001b[0;34m\u001b[0m\u001b[0m\n\u001b[0m\u001b[1;32m    689\u001b[0m \u001b[0;34m\u001b[0m\u001b[0m\n\u001b[1;32m    690\u001b[0m     \u001b[0;32mdef\u001b[0m \u001b[0magg\u001b[0m\u001b[0;34m(\u001b[0m\u001b[0mself\u001b[0m\u001b[0;34m)\u001b[0m\u001b[0;34m:\u001b[0m\u001b[0;34m\u001b[0m\u001b[0;34m\u001b[0m\u001b[0m\n",
            "\u001b[0;32m/usr/local/lib/python3.7/dist-packages/pandas/core/apply.py\u001b[0m in \u001b[0;36mapply_standard\u001b[0;34m(self)\u001b[0m\n\u001b[1;32m    810\u001b[0m \u001b[0;34m\u001b[0m\u001b[0m\n\u001b[1;32m    811\u001b[0m     \u001b[0;32mdef\u001b[0m \u001b[0mapply_standard\u001b[0m\u001b[0;34m(\u001b[0m\u001b[0mself\u001b[0m\u001b[0;34m)\u001b[0m\u001b[0;34m:\u001b[0m\u001b[0;34m\u001b[0m\u001b[0;34m\u001b[0m\u001b[0m\n\u001b[0;32m--> 812\u001b[0;31m         \u001b[0mresults\u001b[0m\u001b[0;34m,\u001b[0m \u001b[0mres_index\u001b[0m \u001b[0;34m=\u001b[0m \u001b[0mself\u001b[0m\u001b[0;34m.\u001b[0m\u001b[0mapply_series_generator\u001b[0m\u001b[0;34m(\u001b[0m\u001b[0;34m)\u001b[0m\u001b[0;34m\u001b[0m\u001b[0;34m\u001b[0m\u001b[0m\n\u001b[0m\u001b[1;32m    813\u001b[0m \u001b[0;34m\u001b[0m\u001b[0m\n\u001b[1;32m    814\u001b[0m         \u001b[0;31m# wrap results\u001b[0m\u001b[0;34m\u001b[0m\u001b[0;34m\u001b[0m\u001b[0;34m\u001b[0m\u001b[0m\n",
            "\u001b[0;32m/usr/local/lib/python3.7/dist-packages/pandas/core/apply.py\u001b[0m in \u001b[0;36mapply_series_generator\u001b[0;34m(self)\u001b[0m\n\u001b[1;32m    826\u001b[0m             \u001b[0;32mfor\u001b[0m \u001b[0mi\u001b[0m\u001b[0;34m,\u001b[0m \u001b[0mv\u001b[0m \u001b[0;32min\u001b[0m \u001b[0menumerate\u001b[0m\u001b[0;34m(\u001b[0m\u001b[0mseries_gen\u001b[0m\u001b[0;34m)\u001b[0m\u001b[0;34m:\u001b[0m\u001b[0;34m\u001b[0m\u001b[0;34m\u001b[0m\u001b[0m\n\u001b[1;32m    827\u001b[0m                 \u001b[0;31m# ignore SettingWithCopy here in case the user mutates\u001b[0m\u001b[0;34m\u001b[0m\u001b[0;34m\u001b[0m\u001b[0;34m\u001b[0m\u001b[0m\n\u001b[0;32m--> 828\u001b[0;31m                 \u001b[0mresults\u001b[0m\u001b[0;34m[\u001b[0m\u001b[0mi\u001b[0m\u001b[0;34m]\u001b[0m \u001b[0;34m=\u001b[0m \u001b[0mself\u001b[0m\u001b[0;34m.\u001b[0m\u001b[0mf\u001b[0m\u001b[0;34m(\u001b[0m\u001b[0mv\u001b[0m\u001b[0;34m)\u001b[0m\u001b[0;34m\u001b[0m\u001b[0;34m\u001b[0m\u001b[0m\n\u001b[0m\u001b[1;32m    829\u001b[0m                 \u001b[0;32mif\u001b[0m \u001b[0misinstance\u001b[0m\u001b[0;34m(\u001b[0m\u001b[0mresults\u001b[0m\u001b[0;34m[\u001b[0m\u001b[0mi\u001b[0m\u001b[0;34m]\u001b[0m\u001b[0;34m,\u001b[0m \u001b[0mABCSeries\u001b[0m\u001b[0;34m)\u001b[0m\u001b[0;34m:\u001b[0m\u001b[0;34m\u001b[0m\u001b[0;34m\u001b[0m\u001b[0m\n\u001b[1;32m    830\u001b[0m                     \u001b[0;31m# If we have a view on v, we need to make a copy because\u001b[0m\u001b[0;34m\u001b[0m\u001b[0;34m\u001b[0m\u001b[0;34m\u001b[0m\u001b[0m\n",
            "\u001b[0;32m/usr/local/lib/python3.7/dist-packages/pandas/core/apply.py\u001b[0m in \u001b[0;36mf\u001b[0;34m(x)\u001b[0m\n\u001b[1;32m    129\u001b[0m \u001b[0;34m\u001b[0m\u001b[0m\n\u001b[1;32m    130\u001b[0m             \u001b[0;32mdef\u001b[0m \u001b[0mf\u001b[0m\u001b[0;34m(\u001b[0m\u001b[0mx\u001b[0m\u001b[0;34m)\u001b[0m\u001b[0;34m:\u001b[0m\u001b[0;34m\u001b[0m\u001b[0;34m\u001b[0m\u001b[0m\n\u001b[0;32m--> 131\u001b[0;31m                 \u001b[0;32mreturn\u001b[0m \u001b[0mfunc\u001b[0m\u001b[0;34m(\u001b[0m\u001b[0mx\u001b[0m\u001b[0;34m,\u001b[0m \u001b[0;34m*\u001b[0m\u001b[0margs\u001b[0m\u001b[0;34m,\u001b[0m \u001b[0;34m**\u001b[0m\u001b[0mkwargs\u001b[0m\u001b[0;34m)\u001b[0m\u001b[0;34m\u001b[0m\u001b[0;34m\u001b[0m\u001b[0m\n\u001b[0m\u001b[1;32m    132\u001b[0m \u001b[0;34m\u001b[0m\u001b[0m\n\u001b[1;32m    133\u001b[0m         \u001b[0;32melse\u001b[0m\u001b[0;34m:\u001b[0m\u001b[0;34m\u001b[0m\u001b[0;34m\u001b[0m\u001b[0m\n",
            "\u001b[0;32m/usr/local/lib/python3.7/dist-packages/pandas/core/base.py\u001b[0m in \u001b[0;36mnunique\u001b[0;34m(self, dropna)\u001b[0m\n\u001b[1;32m   1015\u001b[0m         \u001b[0;36m4\u001b[0m\u001b[0;34m\u001b[0m\u001b[0;34m\u001b[0m\u001b[0m\n\u001b[1;32m   1016\u001b[0m         \"\"\"\n\u001b[0;32m-> 1017\u001b[0;31m         \u001b[0muniqs\u001b[0m \u001b[0;34m=\u001b[0m \u001b[0mself\u001b[0m\u001b[0;34m.\u001b[0m\u001b[0munique\u001b[0m\u001b[0;34m(\u001b[0m\u001b[0;34m)\u001b[0m\u001b[0;34m\u001b[0m\u001b[0;34m\u001b[0m\u001b[0m\n\u001b[0m\u001b[1;32m   1018\u001b[0m         \u001b[0;32mif\u001b[0m \u001b[0mdropna\u001b[0m\u001b[0;34m:\u001b[0m\u001b[0;34m\u001b[0m\u001b[0;34m\u001b[0m\u001b[0m\n\u001b[1;32m   1019\u001b[0m             \u001b[0muniqs\u001b[0m \u001b[0;34m=\u001b[0m \u001b[0mremove_na_arraylike\u001b[0m\u001b[0;34m(\u001b[0m\u001b[0muniqs\u001b[0m\u001b[0;34m)\u001b[0m\u001b[0;34m\u001b[0m\u001b[0;34m\u001b[0m\u001b[0m\n",
            "\u001b[0;32m/usr/local/lib/python3.7/dist-packages/pandas/core/series.py\u001b[0m in \u001b[0;36munique\u001b[0;34m(self)\u001b[0m\n\u001b[1;32m   2037\u001b[0m         \u001b[0mCategories\u001b[0m \u001b[0;34m(\u001b[0m\u001b[0;36m3\u001b[0m\u001b[0;34m,\u001b[0m \u001b[0mobject\u001b[0m\u001b[0;34m)\u001b[0m\u001b[0;34m:\u001b[0m \u001b[0;34m[\u001b[0m\u001b[0;34m'a'\u001b[0m \u001b[0;34m<\u001b[0m \u001b[0;34m'b'\u001b[0m \u001b[0;34m<\u001b[0m \u001b[0;34m'c'\u001b[0m\u001b[0;34m]\u001b[0m\u001b[0;34m\u001b[0m\u001b[0;34m\u001b[0m\u001b[0m\n\u001b[1;32m   2038\u001b[0m         \"\"\"\n\u001b[0;32m-> 2039\u001b[0;31m         \u001b[0;32mreturn\u001b[0m \u001b[0msuper\u001b[0m\u001b[0;34m(\u001b[0m\u001b[0;34m)\u001b[0m\u001b[0;34m.\u001b[0m\u001b[0munique\u001b[0m\u001b[0;34m(\u001b[0m\u001b[0;34m)\u001b[0m\u001b[0;34m\u001b[0m\u001b[0;34m\u001b[0m\u001b[0m\n\u001b[0m\u001b[1;32m   2040\u001b[0m \u001b[0;34m\u001b[0m\u001b[0m\n\u001b[1;32m   2041\u001b[0m     \u001b[0;34m@\u001b[0m\u001b[0moverload\u001b[0m\u001b[0;34m\u001b[0m\u001b[0;34m\u001b[0m\u001b[0m\n",
            "\u001b[0;32m/usr/local/lib/python3.7/dist-packages/pandas/core/base.py\u001b[0m in \u001b[0;36munique\u001b[0;34m(self)\u001b[0m\n\u001b[1;32m    977\u001b[0m                     \u001b[0mresult\u001b[0m \u001b[0;34m=\u001b[0m \u001b[0mnp\u001b[0m\u001b[0;34m.\u001b[0m\u001b[0masarray\u001b[0m\u001b[0;34m(\u001b[0m\u001b[0mresult\u001b[0m\u001b[0;34m)\u001b[0m\u001b[0;34m\u001b[0m\u001b[0;34m\u001b[0m\u001b[0m\n\u001b[1;32m    978\u001b[0m         \u001b[0;32melse\u001b[0m\u001b[0;34m:\u001b[0m\u001b[0;34m\u001b[0m\u001b[0;34m\u001b[0m\u001b[0m\n\u001b[0;32m--> 979\u001b[0;31m             \u001b[0mresult\u001b[0m \u001b[0;34m=\u001b[0m \u001b[0munique1d\u001b[0m\u001b[0;34m(\u001b[0m\u001b[0mvalues\u001b[0m\u001b[0;34m)\u001b[0m\u001b[0;34m\u001b[0m\u001b[0;34m\u001b[0m\u001b[0m\n\u001b[0m\u001b[1;32m    980\u001b[0m \u001b[0;34m\u001b[0m\u001b[0m\n\u001b[1;32m    981\u001b[0m         \u001b[0;32mreturn\u001b[0m \u001b[0mresult\u001b[0m\u001b[0;34m\u001b[0m\u001b[0;34m\u001b[0m\u001b[0m\n",
            "\u001b[0;32m/usr/local/lib/python3.7/dist-packages/pandas/core/algorithms.py\u001b[0m in \u001b[0;36munique\u001b[0;34m(values)\u001b[0m\n\u001b[1;32m    429\u001b[0m \u001b[0;34m\u001b[0m\u001b[0m\n\u001b[1;32m    430\u001b[0m     \u001b[0mtable\u001b[0m \u001b[0;34m=\u001b[0m \u001b[0mhtable\u001b[0m\u001b[0;34m(\u001b[0m\u001b[0mlen\u001b[0m\u001b[0;34m(\u001b[0m\u001b[0mvalues\u001b[0m\u001b[0;34m)\u001b[0m\u001b[0;34m)\u001b[0m\u001b[0;34m\u001b[0m\u001b[0;34m\u001b[0m\u001b[0m\n\u001b[0;32m--> 431\u001b[0;31m     \u001b[0muniques\u001b[0m \u001b[0;34m=\u001b[0m \u001b[0mtable\u001b[0m\u001b[0;34m.\u001b[0m\u001b[0munique\u001b[0m\u001b[0;34m(\u001b[0m\u001b[0mvalues\u001b[0m\u001b[0;34m)\u001b[0m\u001b[0;34m\u001b[0m\u001b[0;34m\u001b[0m\u001b[0m\n\u001b[0m\u001b[1;32m    432\u001b[0m     \u001b[0muniques\u001b[0m \u001b[0;34m=\u001b[0m \u001b[0m_reconstruct_data\u001b[0m\u001b[0;34m(\u001b[0m\u001b[0muniques\u001b[0m\u001b[0;34m,\u001b[0m \u001b[0moriginal\u001b[0m\u001b[0;34m.\u001b[0m\u001b[0mdtype\u001b[0m\u001b[0;34m,\u001b[0m \u001b[0moriginal\u001b[0m\u001b[0;34m)\u001b[0m\u001b[0;34m\u001b[0m\u001b[0;34m\u001b[0m\u001b[0m\n\u001b[1;32m    433\u001b[0m     \u001b[0;32mreturn\u001b[0m \u001b[0muniques\u001b[0m\u001b[0;34m\u001b[0m\u001b[0;34m\u001b[0m\u001b[0m\n",
            "\u001b[0;32mpandas/_libs/hashtable_class_helper.pxi\u001b[0m in \u001b[0;36mpandas._libs.hashtable.PyObjectHashTable.unique\u001b[0;34m()\u001b[0m\n",
            "\u001b[0;32mpandas/_libs/hashtable_class_helper.pxi\u001b[0m in \u001b[0;36mpandas._libs.hashtable.PyObjectHashTable._unique\u001b[0;34m()\u001b[0m\n",
            "\u001b[0;31mTypeError\u001b[0m: unhashable type: 'Series'"
          ]
        }
      ]
    },
    {
      "cell_type": "code",
      "source": [],
      "metadata": {
        "id": "v_Beg-B0bK5f"
      },
      "execution_count": null,
      "outputs": []
    }
  ]
}